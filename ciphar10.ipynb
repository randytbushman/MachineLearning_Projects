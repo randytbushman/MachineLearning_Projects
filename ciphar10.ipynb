{
 "cells": [
  {
   "cell_type": "code",
   "execution_count": 1,
   "metadata": {
    "collapsed": true,
    "ExecuteTime": {
     "start_time": "2023-04-03T21:22:00.482564Z",
     "end_time": "2023-04-03T21:22:04.651878Z"
    }
   },
   "outputs": [],
   "source": [
    "import os\n",
    "import PIL\n",
    "import numpy as np\n",
    "from keras.utils import to_categorical\n",
    "from keras.utils.vis_utils import model_to_dot\n",
    "from keras import layers, models, optimizers, datasets, regularizers, callbacks\n",
    "from keras_lr_finder import LRFinder\n",
    "import matplotlib.pyplot as plt\n",
    "%matplotlib inline\n",
    "import re\n",
    "import sklearn.metrics as skmetrics\n",
    "import tensorflow as tf\n",
    "import imgaug.augmenters as iaa\n",
    "import imgaug as ia\n",
    "from IPython.display import SVG\n",
    "from sklearn.utils import shuffle\n",
    "\n",
    "os.environ[\"TF_FORCE_GPU_ALLOW_GROWTH\"] = \"true\""
   ]
  },
  {
   "cell_type": "code",
   "execution_count": 3,
   "outputs": [
    {
     "ename": "AttributeError",
     "evalue": "module 'keras.datasets' has no attribute 'cifar100'",
     "output_type": "error",
     "traceback": [
      "\u001B[1;31m---------------------------------------------------------------------------\u001B[0m",
      "\u001B[1;31mAttributeError\u001B[0m                            Traceback (most recent call last)",
      "Cell \u001B[1;32mIn[3], line 2\u001B[0m\n\u001B[0;32m      1\u001B[0m \u001B[38;5;66;03m# Load CIFAR-100 dataset. Split between training and testing sets\u001B[39;00m\n\u001B[1;32m----> 2\u001B[0m (x_train, y_train), (x_test, y_test) \u001B[38;5;241m=\u001B[39m \u001B[43mdatasets\u001B[49m\u001B[38;5;241;43m.\u001B[39;49m\u001B[43mcifar100\u001B[49m\u001B[38;5;241m.\u001B[39mload_data()\n",
      "\u001B[1;31mAttributeError\u001B[0m: module 'keras.datasets' has no attribute 'cifar100'"
     ]
    }
   ],
   "source": [
    "# Load CIFAR-100 dataset. Split between training and testing sets\n",
    "(x_train, y_train), (x_test, y_test) = tf.keras.datasets.cifar100.load_data()\n",
    "\n",
    "class_count = len(np.unique(y_train))\n",
    "\n",
    "y_train, y_test = to_categorical(y_train, class_count), to_categorical(y_test, class_count)\n",
    "\n",
    "# Convert to float and normalize test images.\n",
    "# Training images are normalized during augmentation\n",
    "x_test = x_test.astype(np.float32)\n",
    "x_test /= 255"
   ],
   "metadata": {
    "collapsed": false
   }
  },
  {
   "cell_type": "code",
   "execution_count": 4,
   "outputs": [],
   "source": [
    "T_list = [\n",
    "    iaa.Fliplr(p=0.5),\n",
    "    iaa.Flipud(p=0.5),\n",
    "    iaa.SaltAndPepper(p=(0.03, 0.2)),\n",
    "    iaa.Affine(scale=(0.8, 1.2)),\n",
    "    iaa.Affine(translate_px=(-8, 8)),\n",
    "    iaa.Affine(rotate=(-90, 90)),\n",
    "    iaa.Affine(shear=(-25, 25)),\n",
    "    iaa.Pad(percent=(0.05, 0.20)),\n",
    "]\n",
    "\n",
    "img_augment = iaa.SomeOf(1, children=T_list, random_order=True)\n",
    "\n",
    "def cutout(img, h=32, w=32, length=16):\n",
    "    if len(img.shape) == 3:\n",
    "        img = np.expand_dims(img, 0)\n",
    "    imgs = np.zeros((len(img), h, w, 3))\n",
    "    for i in range(img.shape[0]):\n",
    "        mask = np.ones((h, w), dtype=np.float32)\n",
    "        x = np.random.randint(w)\n",
    "        y = np.random.randint(h)\n",
    "\n",
    "        x1 = int(np.clip(x - length/2, 0, w))\n",
    "        x2 = int(np.clip(x + length/2, 0, w))\n",
    "        y1 = int(np.clip(y - length/2, 0, h))\n",
    "        y2 = int(np.clip(y + length/2, 0, h))\n",
    "        mask[y1:y2, x1:x2] = 0\n",
    "        mask = np.expand_dims(mask, -1)\n",
    "        imgs[i] = (img[i] * mask)\n"
   ],
   "metadata": {
    "collapsed": false,
    "ExecuteTime": {
     "start_time": "2023-04-03T21:37:12.046891Z",
     "end_time": "2023-04-03T21:37:12.057225Z"
    }
   }
  }
 ],
 "metadata": {
  "kernelspec": {
   "display_name": "Python 3",
   "language": "python",
   "name": "python3"
  },
  "language_info": {
   "codemirror_mode": {
    "name": "ipython",
    "version": 2
   },
   "file_extension": ".py",
   "mimetype": "text/x-python",
   "name": "python",
   "nbconvert_exporter": "python",
   "pygments_lexer": "ipython2",
   "version": "2.7.6"
  }
 },
 "nbformat": 4,
 "nbformat_minor": 0
}
